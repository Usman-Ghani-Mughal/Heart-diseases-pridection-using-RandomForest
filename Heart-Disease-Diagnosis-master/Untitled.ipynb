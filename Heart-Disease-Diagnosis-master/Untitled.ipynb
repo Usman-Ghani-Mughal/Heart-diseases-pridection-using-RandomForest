{
 "cells": [
  {
   "cell_type": "code",
   "execution_count": 2,
   "metadata": {},
   "outputs": [
    {
     "ename": "NameError",
     "evalue": "name '__file__' is not defined",
     "output_type": "error",
     "traceback": [
      "\u001b[1;31m---------------------------------------------------------------------------\u001b[0m",
      "\u001b[1;31mNameError\u001b[0m                                 Traceback (most recent call last)",
      "\u001b[1;32m<ipython-input-2-18fb39478116>\u001b[0m in \u001b[0;36m<module>\u001b[1;34m\u001b[0m\n\u001b[0;32m      3\u001b[0m \u001b[1;32mimport\u001b[0m \u001b[0mnumpy\u001b[0m \u001b[1;32mas\u001b[0m \u001b[0mnp\u001b[0m\u001b[1;33m\u001b[0m\u001b[1;33m\u001b[0m\u001b[0m\n\u001b[0;32m      4\u001b[0m \u001b[1;32mimport\u001b[0m \u001b[0mos\u001b[0m\u001b[1;33m\u001b[0m\u001b[1;33m\u001b[0m\u001b[0m\n\u001b[1;32m----> 5\u001b[1;33m \u001b[0mpath\u001b[0m \u001b[1;33m=\u001b[0m \u001b[0mos\u001b[0m\u001b[1;33m.\u001b[0m\u001b[0mpath\u001b[0m\u001b[1;33m.\u001b[0m\u001b[0mdirname\u001b[0m\u001b[1;33m(\u001b[0m\u001b[0m__file__\u001b[0m\u001b[1;33m)\u001b[0m\u001b[1;33m\u001b[0m\u001b[1;33m\u001b[0m\u001b[0m\n\u001b[0m\u001b[0;32m      6\u001b[0m \u001b[0mpath1\u001b[0m \u001b[1;33m=\u001b[0m \u001b[0mos\u001b[0m\u001b[1;33m.\u001b[0m\u001b[0mpath\u001b[0m\u001b[1;33m.\u001b[0m\u001b[0mjoin\u001b[0m\u001b[1;33m(\u001b[0m\u001b[0mpath\u001b[0m\u001b[1;33m,\u001b[0m \u001b[1;34m'dataset/processed_cleveland.csv'\u001b[0m\u001b[1;33m)\u001b[0m\u001b[1;33m\u001b[0m\u001b[1;33m\u001b[0m\u001b[0m\n\u001b[0;32m      7\u001b[0m \u001b[0mpath2\u001b[0m \u001b[1;33m=\u001b[0m \u001b[0mos\u001b[0m\u001b[1;33m.\u001b[0m\u001b[0mpath\u001b[0m\u001b[1;33m.\u001b[0m\u001b[0mjoin\u001b[0m\u001b[1;33m(\u001b[0m\u001b[0mpath\u001b[0m\u001b[1;33m,\u001b[0m \u001b[1;34m'dataset/processed_hungarian.csv'\u001b[0m\u001b[1;33m)\u001b[0m\u001b[1;33m\u001b[0m\u001b[1;33m\u001b[0m\u001b[0m\n",
      "\u001b[1;31mNameError\u001b[0m: name '__file__' is not defined"
     ]
    }
   ],
   "source": [
    "import pandas as pd\n",
    "\n",
    "import numpy as np\n",
    "import os\n",
    "path = os.path.dirname(__file__)\n",
    "path1 = os.path.join(path, 'dataset/processed_cleveland.csv')\n",
    "path2 = os.path.join(path, 'dataset/processed_hungarian.csv')\n",
    "path3 = os.path.join(path, 'dataset/processed_switzerland.csv')\n",
    "path4 = os.path.join(path, 'dataset/processed_va.csv')\n",
    "\n",
    "df1 = pd.read_csv(path1)\n",
    "df2 = pd.read_csv(path2)\n",
    "df3 = pd.read_csv(path3)\n",
    "df4 = pd.read_csv(path4)\n",
    "\n",
    "df1 = df1.replace('?', np.nan)\n",
    "df2 = df2.replace('?', np.nan)\n",
    "df3 = df3.replace('?', np.nan)\n",
    "df4 = df4.replace('?', np.nan)\n",
    "\n",
    "col = ['age', 'sex', 'cp', 'trestbps', 'chol', 'fbs', 'restecg',\n",
    "       'thalach', 'exang', 'oldpeak', 'slope', 'ca', 'thal', 'num']\n",
    "df1.columns = col\n",
    "df2.columns = col\n",
    "df3.columns = col\n",
    "df4.columns = col\n",
    "\n",
    "print(\"Cleveland data. Size={}\\nNumber of missing values\".format(df1.shape))\n",
    "print(df1.isna().sum())\n",
    "\n",
    "print(\"\\nHungary data:. Size={}\\nNumber of missing values\".format(df2.shape))\n",
    "print(df2.isna().sum())\n",
    "\n",
    "print(\"\\nSwitzerland data. Size={}\\nNumber of missing values\".format(df3.shape))\n",
    "print(df3.isna().sum())\n",
    "\n",
    "print(\"\\nV.A Long Beach data. Size={}\\nNumber of missing values\".format(df4.shape))\n",
    "print(df4.isna().sum())\n",
    "\n",
    "df = pd.concat([df1, df2, df3, df4])\n",
    "df=df.fillna(df.median())\n",
    "\n",
    "#df=df.drop(['oldpeak', 'slope','ca', 'thal'], axis=1)\n",
    "\n",
    "print(\"Concatanated dataset. Size={}\\nNumber of missing values\".format(df.shape))\n",
    "print(df.isna().sum())\n",
    "\n",
    "df.to_csv(os.path.join(path, 'recons_dataset/combined_dataset.csv'), index=False)\n"
   ]
  },
  {
   "cell_type": "code",
   "execution_count": null,
   "metadata": {},
   "outputs": [],
   "source": []
  }
 ],
 "metadata": {
  "kernelspec": {
   "display_name": "heart_disease",
   "language": "python",
   "name": "heart_disease"
  },
  "language_info": {
   "codemirror_mode": {
    "name": "ipython",
    "version": 3
   },
   "file_extension": ".py",
   "mimetype": "text/x-python",
   "name": "python",
   "nbconvert_exporter": "python",
   "pygments_lexer": "ipython3",
   "version": "3.8.3"
  }
 },
 "nbformat": 4,
 "nbformat_minor": 4
}
